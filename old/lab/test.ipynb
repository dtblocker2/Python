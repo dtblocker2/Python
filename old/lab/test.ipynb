{
 "cells": [
  {
   "cell_type": "code",
   "execution_count": null,
   "metadata": {},
   "outputs": [
    {
     "name": "stdout",
     "output_type": "stream",
     "text": [
      "Student Name: John Doe\n",
      "College Name: ABC University\n"
     ]
    }
   ],
   "source": [
    "# Parent Class: College\n",
    "class College:\n",
    "    def __init__(self, college_name):\n",
    "        self.college_name = college_name  # College name as an instance variable\n",
    "\n",
    "# Child Class: Student\n",
    "class Student:\n",
    "    def __init__(self, student_name, college_instance):\n",
    "        self.student_name = student_name  # Student name as an instance variable\n",
    "        self.college_instance = college_instance  # Reference to the College instance\n",
    "\n",
    "    def display(self):\n",
    "        print(f\"Student Name: {self.student_name}\")\n",
    "        print(f\"College Name: {self.college_instance.college_name}\")\n",
    "\n",
    "# Create an instance of College\n",
    "A = College(\"ABC University\")\n",
    "B = College(\"BBC College\")\n",
    "\n",
    "# Create an instance of Student, passing the College instance\n",
    "S = Student(\"John Doe\", A)\n",
    "Z = Student(\"Lol\",B)\n",
    "\n",
    "# Display student and college information\n",
    "S.display()\n",
    "Z.display()"
   ]
  }
 ],
 "metadata": {
  "kernelspec": {
   "display_name": "Python 3",
   "language": "python",
   "name": "python3"
  },
  "language_info": {
   "codemirror_mode": {
    "name": "ipython",
    "version": 3
   },
   "file_extension": ".py",
   "mimetype": "text/x-python",
   "name": "python",
   "nbconvert_exporter": "python",
   "pygments_lexer": "ipython3",
   "version": "3.12.6"
  }
 },
 "nbformat": 4,
 "nbformat_minor": 2
}
